{
 "cells": [
  {
   "cell_type": "markdown",
   "metadata": {},
   "source": [
    "# A* pathplanning:-"
   ]
  },
  {
   "cell_type": "code",
   "execution_count": 111,
   "metadata": {},
   "outputs": [],
   "source": [
    "import numpy as np\n",
    "from math import dist\n",
    "import matplotlib.pyplot as plt"
   ]
  },
  {
   "cell_type": "code",
   "execution_count": 112,
   "metadata": {},
   "outputs": [
    {
     "data": {
      "text/plain": [
       "<matplotlib.image.AxesImage at 0x13ba6f15850>"
      ]
     },
     "execution_count": 112,
     "metadata": {},
     "output_type": "execute_result"
    },
    {
     "data": {
      "image/png": "[encoded data removed]",
      "text/plain": [
       "<Figure size 720x720 with 1 Axes>"
      ]
     },
     "metadata": {
      "needs_background": "light"
     },
     "output_type": "display_data"
    }
   ],
   "source": [
    "#import map \n",
    "\n",
    "map = plt.imread('map.png')   ############## 1. Change the map here ##############<----------------------------------------------\n",
    "map=np.array(map)\n",
    "fig, ax = plt.subplots(figsize=(10, 10))  # Adjust the figsize as needed\n",
    "ax.axis('off')\n",
    "ax.imshow(map)"
   ]
  },
  {
   "cell_type": "code",
   "execution_count": 113,
   "metadata": {},
   "outputs": [],
   "source": [
    "#create a class for node\n",
    "class node_class:\n",
    "    def __init__(self,position,g,h,f,parent):\n",
    "        self.position=position\n",
    "        self.g=g\n",
    "        self.h=h\n",
    "        self.f=f\n",
    "        self.parent=parent"
   ]
  },
  {
   "cell_type": "code",
   "execution_count": 114,
   "metadata": {},
   "outputs": [],
   "source": [
    "start=None    #red\n",
    "goal=None     #green\n",
    "for i in range(map.shape[0]):\n",
    "    for j in range(map.shape[1]):\n",
    "        if map[i,j,0]==1.0 and map[i,j,1]==0.0 and map[i,j,2]==0.0:\n",
    "            start=node_class([i,j],0,0,0,None)\n",
    "        if map[i,j,0]==0.0 and map[i,j,1]==1.0 and map[i,j,2]==0.0:\n",
    "            goal=node_class([i,j],0,0,0,None)"
   ]
  },
  {
   "cell_type": "code",
   "execution_count": 115,
   "metadata": {},
   "outputs": [],
   "source": [
    "def successors(node):\n",
    "    successors=[]\n",
    "    for i in range(-1,2):\n",
    "        for j in range(-1,2):\n",
    "            if i==0 and j==0:\n",
    "                continue\n",
    "            if node.position[0]+i<0 or node.position[0]+i>=map.shape[0] or node.position[1]+j<0 or node.position[1]+j>=map.shape[1]:\n",
    "                continue\n",
    "            if map[node.position[0]+i,node.position[1]+j,0]==0.0 and map[node.position[0]+i,node.position[1]+j,1]==0.0 and map[node.position[0]+i,node.position[1]+j,2]==0.0:\n",
    "                continue\n",
    "            successors.append(node_class([node.position[0]+i,node.position[1]+j],0,0,0,None))\n",
    "    return successors"
   ]
  },
  {
   "cell_type": "code",
   "execution_count": 116,
   "metadata": {},
   "outputs": [],
   "source": [
    "def A_star(start,goal):\n",
    "    #start and goal\n",
    "\n",
    "    #initialize open and closed list\n",
    "    open_list=[]\n",
    "    closed_list=[]\n",
    "    #add start node to open list\n",
    "    open_list.append(start)\n",
    "    \n",
    "    while len(open_list)>0:\n",
    "\n",
    "        #get minimum current node\n",
    "        parent=open_list[0]\n",
    "        parent_index=0\n",
    "        for index,item in enumerate(open_list):\n",
    "            if item.f<parent.f:\n",
    "                parent=item\n",
    "                parent_index=index\n",
    "        open_list.pop(parent_index)\n",
    "        closed_list.append(parent)\n",
    "        #map[parent.position[0],parent.position[1]]=[1,0,1]\n",
    "\n",
    "\n",
    "        if parent.position==goal.position:\n",
    "            path=[]\n",
    "            current=parent\n",
    "            while current is not None:\n",
    "                path.append(current.position)\n",
    "                current=current.parent\n",
    "            return path[::-1]\n",
    "\n",
    "\n",
    "        for child in successors(parent):\n",
    "            flag=0\n",
    "            \n",
    "            child.g=parent.g+dist(child.position,parent.position)\n",
    "            child.h=dist(child.position,goal.position)\n",
    "            child.f=child.g+child.h\n",
    "            child.parent=parent\n",
    "\n",
    "\n",
    "            for index,closed_child in enumerate(closed_list):\n",
    "                if child.position==closed_child.position:\n",
    "                    flag=1\n",
    "                    if child.f<closed_child.f:\n",
    "                        closed_list[index]=child\n",
    "                \n",
    "            if flag==1:\n",
    "                continue\n",
    "\n",
    "            for index,open_child in enumerate(open_list):\n",
    "                if child.position==open_child.position:\n",
    "                    flag=1\n",
    "                    if child.f<open_child.f:\n",
    "                        open_list[index]=child\n",
    "\n",
    "            if flag==1:\n",
    "                continue\n",
    "\n",
    "            open_list.append(child)\n",
    "            #map[child.position[0],child.position[1]]=[1,1,0]\n",
    "\n",
    "    if len(open_list)==0:\n",
    "        return \"Goal is unreachable\""
   ]
  },
  {
   "cell_type": "code",
   "execution_count": 117,
   "metadata": {},
   "outputs": [
    {
     "data": {
      "image/png": "[encoded data removed]",
      "text/plain": [
       "<Figure size 720x720 with 1 Axes>"
      ]
     },
     "metadata": {
      "needs_background": "light"
     },
     "output_type": "display_data"
    }
   ],
   "source": [
    "#Draw path on map\n",
    "path=A_star(start,goal)\n",
    "\n",
    "if path == \"Goal is unreachable\":\n",
    "    print(path)\n",
    "\n",
    "else:\n",
    "    for i in range(len(path)):\n",
    "        map[path[i][0],path[i][1]]=[0,0,1]\n",
    "\n",
    "    map[start.position[0],start.position[1]]=[1,0,0]\n",
    "    map[goal.position[0],goal.position[1]]=[0,1,0]\n",
    "\n",
    "\n",
    "    fig, ax = plt.subplots(figsize=(10, 10))\n",
    "    ax.axis('off')\n",
    "    ax.imshow(map)"
   ]
  }
 ],
 "metadata": {
  "kernelspec": {
   "display_name": "Python 3 (ipykernel)",
   "language": "python",
   "name": "python3"
  },
  "language_info": {
   "codemirror_mode": {
    "name": "ipython",
    "version": 3
   },
   "file_extension": ".py",
   "mimetype": "text/x-python",
   "name": "python",
   "nbconvert_exporter": "python",
   "pygments_lexer": "ipython3",
   "version": "3.9.12"
  },
  "vscode": {
   "interpreter": {
    "hash": "cf0b053ec60c51acbf9b234663d2a94147f1419af99fefc5982f553fc46997b4"
   }
  }
 },
 "nbformat": 4,
 "nbformat_minor": 4
}
